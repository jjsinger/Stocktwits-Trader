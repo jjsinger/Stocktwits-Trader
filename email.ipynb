{
 "cells": [
  {
   "cell_type": "code",
   "execution_count": 3,
   "metadata": {},
   "outputs": [],
   "source": [
    "import smtplib"
   ]
  },
  {
   "cell_type": "code",
   "execution_count": 16,
   "metadata": {},
   "outputs": [],
   "source": [
    "PASSWORD = \"Jchevre1*\""
   ]
  },
  {
   "cell_type": "code",
   "execution_count": 23,
   "metadata": {},
   "outputs": [
    {
     "name": "stdout",
     "output_type": "stream",
     "text": [
      "Type your password and press enter: Jchevre1*\n"
     ]
    }
   ],
   "source": [
    "import smtplib, ssl\n",
    "\n",
    "port = 465  # For SSL\n",
    "password = input(\"Type your password and press enter: \")\n",
    "\n",
    "# Create a secure SSL context\n",
    "context = ssl.create_default_context()\n",
    "\n",
    "with smtplib.SMTP_SSL(\"smtp.gmail.com\", port, context=context) as server:\n",
    "    #Message Body\n",
    "    sender_email = \"joshua.singer712@gmail.com\" #\"crs95byu@gmail.com\"\n",
    "    receiver_email = ['crs95byu@gmail.com', 'joshua.singer712@gmail.com']\n",
    "    message = f\"\"\"\\\n",
    "Subject: Hi Chase-ster,\n",
    "\n",
    "This message is sent from Python.\n",
    "\n",
    "You have made the trade for {ticker} stock.\n",
    "\n",
    "\n",
    "\"\"\"\n",
    "    \n",
    "    server.login(\"joshua.singer712@gmail.com\", PASSWORD)\n",
    "    #Send the email\n",
    "    server.sendmail(sender_email, receiver_email, message)"
   ]
  },
  {
   "cell_type": "code",
   "execution_count": null,
   "metadata": {},
   "outputs": [],
   "source": []
  }
 ],
 "metadata": {
  "kernelspec": {
   "display_name": "test1",
   "language": "python",
   "name": "test1"
  },
  "language_info": {
   "codemirror_mode": {
    "name": "ipython",
    "version": 3
   },
   "file_extension": ".py",
   "mimetype": "text/x-python",
   "name": "python",
   "nbconvert_exporter": "python",
   "pygments_lexer": "ipython3",
   "version": "3.8.3"
  }
 },
 "nbformat": 4,
 "nbformat_minor": 4
}
