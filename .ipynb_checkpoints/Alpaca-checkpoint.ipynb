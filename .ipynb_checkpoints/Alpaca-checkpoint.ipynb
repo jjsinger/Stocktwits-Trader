{
 "cells": [
  {
   "cell_type": "code",
   "execution_count": 21,
   "metadata": {},
   "outputs": [],
   "source": [
    "import requests, json\n",
    "from requests import Response\n",
    "import pandas as pd\n",
    "import numpy as np\n",
    "\n",
    "from stocktwits_secrets import *\n",
    "#from "
   ]
  },
  {
   "cell_type": "code",
   "execution_count": 2,
   "metadata": {},
   "outputs": [],
   "source": [
    "############################################################\n",
    "############## CONNECTING TO ALPACA API ####################\n",
    "############################################################\n"
   ]
  },
  {
   "cell_type": "code",
   "execution_count": 31,
   "metadata": {},
   "outputs": [],
   "source": [
    "\n",
    "def get_account_metadata():\n",
    "    r: Response = requests.get(ACCOUNT_URL, headers=HEADERS)\n",
    "    return json.loads(r.content)\n",
    "\n",
    "\n",
    "def make_order(symbol, qty, side, type, time_in_force):\n",
    "    data = {\n",
    "        'symbol': symbol,\n",
    "        'qty': qty,\n",
    "        'side': side,\n",
    "        'type': type,\n",
    "        'time_in_force': time_in_force\n",
    "    }\n",
    "    r: Response = requests.post(ORDERS_URL, json=data, headers=HEADERS)\n",
    "\n",
    "    return json.loads(r.content)\n"
   ]
  },
  {
   "cell_type": "code",
   "execution_count": 13,
   "metadata": {},
   "outputs": [],
   "source": [
    "def get_asset_price():\n",
    "    r: Response = requests.get(ASSETS_URL, headers=HEADERS)\n",
    "    \n",
    "    return json.loads(r.text)"
   ]
  },
  {
   "cell_type": "code",
   "execution_count": 30,
   "metadata": {},
   "outputs": [],
   "source": [
    "assets = pd.DataFrame(get_asset_price())\n",
    "assets_active = assets[assets.status == 'active']"
   ]
  },
  {
   "cell_type": "code",
   "execution_count": null,
   "metadata": {},
   "outputs": [],
   "source": []
  },
  {
   "cell_type": "code",
   "execution_count": null,
   "metadata": {},
   "outputs": [],
   "source": []
  },
  {
   "cell_type": "code",
   "execution_count": 9,
   "metadata": {},
   "outputs": [
    {
     "data": {
      "text/plain": [
       "{'id': '65f60283-059d-4cfe-a27d-f342d8da6a6c',\n",
       " 'account_number': 'PA2ZFUQ4IDYY',\n",
       " 'status': 'ACTIVE',\n",
       " 'currency': 'USD',\n",
       " 'buying_power': '389043.08',\n",
       " 'regt_buying_power': '194800.47',\n",
       " 'daytrading_buying_power': '389043.08',\n",
       " 'cash': '97260.77',\n",
       " 'portfolio_value': '97539.7',\n",
       " 'pattern_day_trader': False,\n",
       " 'trading_blocked': False,\n",
       " 'transfers_blocked': False,\n",
       " 'account_blocked': False,\n",
       " 'created_at': '2019-11-12T07:37:27.467552Z',\n",
       " 'trade_suspended_by_user': False,\n",
       " 'multiplier': '4',\n",
       " 'shorting_enabled': True,\n",
       " 'equity': '97539.7',\n",
       " 'last_equity': '97542.79',\n",
       " 'long_market_value': '278.93',\n",
       " 'short_market_value': '0',\n",
       " 'initial_margin': '139.465',\n",
       " 'maintenance_margin': '278.93',\n",
       " 'last_maintenance_margin': '282.02',\n",
       " 'sma': '0',\n",
       " 'daytrade_count': 0}"
      ]
     },
     "execution_count": 9,
     "metadata": {},
     "output_type": "execute_result"
    }
   ],
   "source": [
    "get_account_metadata()"
   ]
  },
  {
   "cell_type": "code",
   "execution_count": 14,
   "metadata": {},
   "outputs": [
    {
     "data": {
      "text/plain": [
       "{'id': 'cbd6f4b7-0494-4e9b-8544-4674471479d0',\n",
       " 'client_order_id': 'fb442e1c-2f40-4dc5-8088-76a9199369bb',\n",
       " 'created_at': '2021-02-23T06:18:08.285977Z',\n",
       " 'updated_at': '2021-02-23T06:18:08.285977Z',\n",
       " 'submitted_at': '2021-02-23T06:18:08.279704Z',\n",
       " 'filled_at': None,\n",
       " 'expired_at': None,\n",
       " 'canceled_at': None,\n",
       " 'failed_at': None,\n",
       " 'replaced_at': None,\n",
       " 'replaced_by': None,\n",
       " 'replaces': None,\n",
       " 'asset_id': '88fbf228-8884-47f0-8e6a-643c85aca003',\n",
       " 'symbol': 'XBIO',\n",
       " 'asset_class': 'us_equity',\n",
       " 'qty': '5',\n",
       " 'filled_qty': '0',\n",
       " 'filled_avg_price': None,\n",
       " 'order_class': '',\n",
       " 'order_type': 'market',\n",
       " 'type': 'market',\n",
       " 'side': 'buy',\n",
       " 'time_in_force': 'day',\n",
       " 'limit_price': None,\n",
       " 'stop_price': None,\n",
       " 'status': 'accepted',\n",
       " 'extended_hours': False,\n",
       " 'legs': None,\n",
       " 'trail_percent': None,\n",
       " 'trail_price': None,\n",
       " 'hwm': None}"
      ]
     },
     "execution_count": 14,
     "metadata": {},
     "output_type": "execute_result"
    }
   ],
   "source": [
    "#get_account()\n",
    "\n",
    "\n",
    "make_order('XBIO', '5', 'buy', 'market', 'day')\n"
   ]
  },
  {
   "cell_type": "code",
   "execution_count": null,
   "metadata": {},
   "outputs": [],
   "source": []
  }
 ],
 "metadata": {
  "kernelspec": {
   "display_name": "Momentum_Trading_Notifications",
   "language": "python",
   "name": "momentum_trading_notifications"
  },
  "language_info": {
   "codemirror_mode": {
    "name": "ipython",
    "version": 3
   },
   "file_extension": ".py",
   "mimetype": "text/x-python",
   "name": "python",
   "nbconvert_exporter": "python",
   "pygments_lexer": "ipython3",
   "version": "3.8.3"
  }
 },
 "nbformat": 4,
 "nbformat_minor": 4
}
