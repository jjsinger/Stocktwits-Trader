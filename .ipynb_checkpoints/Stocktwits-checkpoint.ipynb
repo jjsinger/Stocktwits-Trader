{
 "cells": [
  {
   "cell_type": "markdown",
   "metadata": {},
   "source": [
    "# Connect to Stocktwits API\n",
    "\n",
    "This notebook creates the stocktwits client to interact with the stocktwits API. It pulls the client_secret, the client_id, the redirect_url, and the access_token from the stocktwits_secrets.py file to authenticate. "
   ]
  },
  {
   "cell_type": "code",
   "execution_count": 8,
   "metadata": {},
   "outputs": [],
   "source": [
    "from stocktwits_secrets import client_secret, client_id, redirect_url, access_token\n",
    "from alpaca import make_order, get_account_metadata, get_buying_power\n",
    "\n",
    "import csv\n",
    "import requests\n",
    "import json\n",
    "import os\n",
    "import yfinance as yf\n",
    "import time\n",
    "\n",
    "import emojis\n",
    "import datetime as dt\n",
    "import stockquotes as sq\n",
    "\n",
    "import pprint\n",
    "from http_request_randomizer.requests.proxy.requestProxy import RequestProxy\n",
    "from html5print import HTMLBeautifier\n",
    "\n",
    "from yahoo_finance import Share\n",
    "import yahoo_finance as yfin"
   ]
  },
  {
   "cell_type": "code",
   "execution_count": 9,
   "metadata": {},
   "outputs": [
    {
     "data": {
      "text/plain": [
       "121.03"
      ]
     },
     "execution_count": 9,
     "metadata": {},
     "output_type": "execute_result"
    }
   ],
   "source": [
    "apple = sq.Stock('AAPL')\n",
    "apple.current_price"
   ]
  },
  {
   "cell_type": "code",
   "execution_count": 10,
   "metadata": {},
   "outputs": [
    {
     "data": {
      "text/plain": [
       "<Response [200]>"
      ]
     },
     "execution_count": 10,
     "metadata": {},
     "output_type": "execute_result"
    }
   ],
   "source": [
    "# API Call to Stocktwits friends feed\n",
    "\n",
    "#Use a requests proxy to get user messages from stock twits api\n",
    "streams_friends_url = \"https://api.stocktwits.com/api/2/streams/friends.json?access_token=\" + access_token\n",
    "streams_friends_url\n",
    "\n",
    "# stocktwit_streams_url = \"https://api.stocktwits.com/api/2/streams/symbol/\" + SYMBOL + \".json?\" + access_token\n",
    "# stocktwit_streams_url\n",
    "\n",
    "stocktwits_url = \"https://api.stocktwits.com/api/2/oauth/authorize?client_id=\" + client_id + \"&response_type=code&redirect_uri=\" + redirect_url + \"&scope=read,watch_lists,publish_messages,publish_watch_lists,direct_messages,follow_users,follow_stocks\"\n",
    "response = requests.get(stocktwits_url)\n",
    "response"
   ]
  },
  {
   "cell_type": "code",
   "execution_count": null,
   "metadata": {},
   "outputs": [],
   "source": [
    "# Variables\n",
    "\n",
    "\n",
    "percent_threshold = 1.05 \n",
    "\n",
    "# Order Parameters\n",
    "\n",
    "buy_side = 'buy'\n",
    "sell_side = 'sell'\n",
    "market_type = 'market'\n",
    "qty = '5'"
   ]
  },
  {
   "cell_type": "code",
   "execution_count": 11,
   "metadata": {},
   "outputs": [],
   "source": [
    "# Install a pip package in the current Jupyter kernel\n",
    "# import sys\n",
    "# !{sys.executable} -m pip install stockquotes"
   ]
  },
  {
   "cell_type": "code",
   "execution_count": 28,
   "metadata": {},
   "outputs": [],
   "source": [
    "test_dict = {\n",
    "        'messages': {\n",
    "            'body': \"$AEO BUY ALERT\"\n",
    "        }\n",
    "}"
   ]
  },
  {
   "cell_type": "code",
   "execution_count": null,
   "metadata": {},
   "outputs": [],
   "source": []
  },
  {
   "cell_type": "code",
   "execution_count": 27,
   "metadata": {},
   "outputs": [],
   "source": [
    "#Functions\n",
    "\n",
    "def buyAlertCheck(resp):\n",
    "    #Use response from HTTP request and parse json response object\n",
    "    \n",
    "    body = resp['messages'][0]['body']\n",
    "    list1 = body.split(\" \")\n",
    "    x = 'buy'\n",
    "    emoj_light, emoj_fire = [emojis.encode(':rotating_light:'), emojis.encode(':fire:')]\n",
    "    \n",
    "    #If \"buy alert\" is found in text, then print the ticker symbol\n",
    "    if x in body and (emoj_fire in body) or (emoj_light in body):\n",
    "        #Print stock ticker from buy alert message\n",
    "        dollar_sign = list1[0][:1]\n",
    "        if dollar_sign == '$':\n",
    "            print('Stock', list1[0][1:], 'was purchased on ', dt.datetime.time())\n",
    "            ticker = list1[0][1:]\n",
    "            print(\"Stock Ticker\", list1[0])\n",
    "            og_price = get_current_price(ticker)\n",
    "\n",
    "            if curr_price <= percent_threshold * og_price:\n",
    "                print(f\"Current price is less than threshold: {percent_threshold}\", less_than)\n",
    "                less_than = True\n",
    "\n",
    "            while less_than:\n",
    "                curr_price = get_current_price(ticker)\n",
    "                make_order(curr_price, '5', buy_side, market_type, 'day', response_friends) \n",
    "\n",
    "                if curr_price > percent_threshold * og_price:\n",
    "                    #Sell\n",
    "                    make_order(curr_price, '5', sell_side, market_type, 'day', response_friends)\n",
    "                    less_than = False\n",
    "\n",
    "            #Print buy alert message\n",
    "            print(\"Buy Alert Message: \", list1[1:])\n",
    "\n",
    "\n",
    "\n",
    "        else:\n",
    "            print('The first ticker was not a buy alert')\n",
    "        #Pull stock ticker and invest in Alpaca API\n",
    "    else:\n",
    "        time_of_check = dt.date.today()#.strftime('%Y-%m-%d %r')\n",
    "        print('The most recent message is NOT a buy alert on', dt.datetime.fromisoformat(resp['messages'][0]['created_at'][:-1]) , '\\nToday\\'s date:', time_of_check )\n",
    "        print(\"Body of Message: \", body, time_of_check)\n",
    "        return\n",
    "    return \n",
    "\n",
    "def get_requests(url):\n",
    "        #Return json object of messages\n",
    "        \"\"\"\n",
    "            Parameters: url \n",
    "            Returns: response object from a get request\n",
    "        \"\"\"\n",
    "        response = requests.get(url)\n",
    "        response1 = json.loads(response.text)\n",
    "        return response1\n",
    "\n",
    "def get_current_price(tkr):\n",
    "    \"\"\"\n",
    "        Parameters: tkr \n",
    "        Returns: price \n",
    "    \"\"\"\n",
    "    # 2. Store ticker in a variable\n",
    "    var = tkr\n",
    "    ticker_obj = sq.Stock(var)\n",
    "    # 3. return price from ticker\n",
    "    \n",
    "    return ticker_obj.current_price\n",
    " "
   ]
  },
  {
   "cell_type": "code",
   "execution_count": 15,
   "metadata": {},
   "outputs": [
    {
     "data": {
      "text/plain": [
       "'194799.46'"
      ]
     },
     "execution_count": 15,
     "metadata": {},
     "output_type": "execute_result"
    }
   ],
   "source": [
    "get_buying_power()"
   ]
  },
  {
   "cell_type": "code",
   "execution_count": 16,
   "metadata": {},
   "outputs": [
    {
     "data": {
      "text/plain": [
       "121.03"
      ]
     },
     "execution_count": 16,
     "metadata": {},
     "output_type": "execute_result"
    }
   ],
   "source": [
    "get_current_price('AAPL')"
   ]
  },
  {
   "cell_type": "code",
   "execution_count": 17,
   "metadata": {},
   "outputs": [],
   "source": [
    "# 1. Authenticate\n",
    "response_friends = get_requests(streams_friends_url)\n",
    "#print(response_friends)\n",
    "\n",
    "# body = response_friends['messages'][0]['body']\n",
    "# list1 = body.split(\" \")\n",
    "# x = 'buy'"
   ]
  },
  {
   "cell_type": "code",
   "execution_count": null,
   "metadata": {},
   "outputs": [],
   "source": []
  },
  {
   "cell_type": "code",
   "execution_count": 18,
   "metadata": {},
   "outputs": [],
   "source": [
    "# 1. Authenticate\n",
    "# 2. Run a buy alert check to see if the latest message was a buy alert DONE\n",
    "# 3. If buy alert is true, connect to alpaca api and place order DONE\n",
    "# 4. Write function that stores the price at the price the order was placed\n",
    "# 5. Query stock price every second and compare it to original price. (While price < 1.05 * original_price: BUY)\n",
    "# 6. If price is above a 2% increase. Sell."
   ]
  },
  {
   "cell_type": "code",
   "execution_count": null,
   "metadata": {},
   "outputs": [],
   "source": []
  },
  {
   "cell_type": "code",
   "execution_count": 19,
   "metadata": {},
   "outputs": [
    {
     "name": "stdout",
     "output_type": "stream",
     "text": [
      "The most recent message is NOT a buy alert on 2021-03-13 03:54:48 \n",
      "Today's date: 2021-03-12\n",
      "Body of Message:  @WhoDatSaints009 2021-03-12\n"
     ]
    }
   ],
   "source": [
    "buyAlertCheck(response_friends)"
   ]
  },
  {
   "cell_type": "code",
   "execution_count": 22,
   "metadata": {
    "scrolled": true
   },
   "outputs": [
    {
     "name": "stdout",
     "output_type": "stream",
     "text": [
      "The most recent message is NOT a buy alert on 2021-03-13 03:54:48 \n",
      "Today's date: 2021-03-12\n",
      "Body of Message:  @WhoDatSaints009 2021-03-12\n",
      "\n",
      "\n",
      "Buy Alert Status: None\n",
      "waiting: None\n",
      "While loop is done\n"
     ]
    }
   ],
   "source": [
    "# 2. Run a buy alert check to see if the latest message was a buy alert\n",
    "\n",
    "buy = True\n",
    "\n",
    "while buy:\n",
    "    buy = buyAlertCheck(response_friends)\n",
    "    \n",
    "    print(\"\\n\\nBuy Alert Status:\", buy)\n",
    "    time.sleep(3)\n",
    "    print('waiting:', buy)\n",
    "    \n",
    "    if buy == None:\n",
    "        buy = False\n",
    "        \n",
    "        \n",
    "print('Script is done')"
   ]
  },
  {
   "cell_type": "code",
   "execution_count": null,
   "metadata": {},
   "outputs": [],
   "source": [
    "# 3. If buy alert is true, connect to alpaca api and place order\n"
   ]
  },
  {
   "cell_type": "code",
   "execution_count": 21,
   "metadata": {},
   "outputs": [
    {
     "data": {
      "text/plain": [
       "<Response [200]>"
      ]
     },
     "execution_count": 21,
     "metadata": {},
     "output_type": "execute_result"
    }
   ],
   "source": [
    "#1. Application requests authorization\n",
    "stocktwits_url = \"https://api.stocktwits.com/api/2/oauth/authorize?client_id=\" + client_id + \"&response_type=code&redirect_uri=\" + redirect_url + \"&scope=read,watch_lists,publish_messages,publish_watch_lists,direct_messages,follow_users,follow_stocks\"\n",
    "response = requests.get(stocktwits_url)\n",
    "response\n",
    "#2. Authorization box with prompt user to approve request for authorization\n",
    "\n",
    "#3. Stocktwits will redirect the user to the uri with a code as a query parameter: examples.com/?code=<code>\n",
    "\n",
    "#4. Once the code is obtained, Use the code to request an access token using the client_id, client_secret, code, and redirect_uri\n",
    "#https://api.stocktwits.com/api/2/oauth/token?client_id=<client id>&client_secret=<client secret>&code=<code>&grant_type=authorization_code&redirect_uri=http://www.example.com\n",
    "\n",
    "#5. The response will return a username, user_id, access_token and scope. Use the access_token to "
   ]
  },
  {
   "cell_type": "code",
   "execution_count": 9,
   "metadata": {},
   "outputs": [
    {
     "data": {
      "text/plain": [
       "'https://api.stocktwits.com/api/2/oauth/token?client_id=e5602262546c8dff&client_secret=8fa5bc8d87809ad35a3a562ef15a5ec35b1ece36&code=<code>&grant_type=authorization_code&redirect_uri=http://statsing.com/'"
      ]
     },
     "execution_count": 9,
     "metadata": {},
     "output_type": "execute_result"
    }
   ],
   "source": [
    "#Request Token URL: Returns a user authorization token to make authenticated API calls\n",
    "\"https://api.stocktwits.com/api/2/oauth/token?client_id=\" + client_id + \"&client_secret=\" + client_secret +\"&code=\" + \"<code>\" + \"&grant_type=authorization_code&redirect_uri=\" + redirect_url\n"
   ]
  },
  {
   "cell_type": "code",
   "execution_count": 10,
   "metadata": {},
   "outputs": [],
   "source": [
    "#CSV Variables\n",
    "FILE_NAME = 'message_file_2_22.csv'\n",
    "FIELDS = ['symbol', 'sentiment', 'message', 'message_id']"
   ]
  },
  {
   "cell_type": "code",
   "execution_count": 11,
   "metadata": {},
   "outputs": [],
   "source": [
    "#Create a blank csv file with the name headers from the messages of stocktwits friends\n",
    "def create_csv():\n",
    "    #Header will include username, date_posted, followers, message\n",
    "    file = open(FILE_NAME, 'a', newline='', encoding='utf-8')\n",
    "    # DETERMINE WHERE TO START IF RESUMING SCRIPT\n",
    "    if os.stat(FILE_NAME).st_size == 0:\n",
    "        # OPEN FILE IN APPEND MODE AND WRITE HEADERS TO FILE\n",
    "        last_message_id = [None, None, None, None]\n",
    "        csvfile = csv.DictWriter(file, FIELDS)\n",
    "        csvfile.writeheader()"
   ]
  },
  {
   "cell_type": "code",
   "execution_count": 12,
   "metadata": {},
   "outputs": [],
   "source": [
    "SYMBOL = 'AAPL'"
   ]
  },
  {
   "cell_type": "code",
   "execution_count": null,
   "metadata": {},
   "outputs": [],
   "source": []
  },
  {
   "cell_type": "code",
   "execution_count": 6,
   "metadata": {},
   "outputs": [
    {
     "data": {
      "text/plain": [
       "'https://api.stocktwits.com/api/2/streams/friends.json?access_token=5a84f31288f623b59883ed12c6c6a24ce67dab7a'"
      ]
     },
     "execution_count": 6,
     "metadata": {},
     "output_type": "execute_result"
    }
   ],
   "source": []
  },
  {
   "cell_type": "code",
   "execution_count": 13,
   "metadata": {},
   "outputs": [
    {
     "data": {
      "text/plain": [
       "'https://api.stocktwits.com/api/2/streams/symbol/AAPL.json?5a84f31288f623b59883ed12c6c6a24ce67dab7a'"
      ]
     },
     "execution_count": 13,
     "metadata": {},
     "output_type": "execute_result"
    }
   ],
   "source": []
  },
  {
   "cell_type": "code",
   "execution_count": 14,
   "metadata": {},
   "outputs": [
    {
     "data": {
      "text/plain": [
       "http_request_randomizer.requests.proxy.requestProxy.RequestProxy"
      ]
     },
     "execution_count": 14,
     "metadata": {},
     "output_type": "execute_result"
    }
   ],
   "source": [
    "req_proxy = RequestProxy\n",
    "req_proxy"
   ]
  },
  {
   "cell_type": "code",
   "execution_count": 94,
   "metadata": {},
   "outputs": [
    {
     "ename": "NameError",
     "evalue": "name 'req_proxy' is not defined",
     "output_type": "error",
     "traceback": [
      "\u001b[1;31m---------------------------------------------------------------------------\u001b[0m",
      "\u001b[1;31mNameError\u001b[0m                                 Traceback (most recent call last)",
      "\u001b[1;32m<ipython-input-94-c1ae8df23576>\u001b[0m in \u001b[0;36m<module>\u001b[1;34m\u001b[0m\n\u001b[0;32m      3\u001b[0m \u001b[1;32mwhile\u001b[0m \u001b[1;32mTrue\u001b[0m\u001b[1;33m:\u001b[0m\u001b[1;33m\u001b[0m\u001b[1;33m\u001b[0m\u001b[0m\n\u001b[0;32m      4\u001b[0m     \u001b[1;31m#Get response\u001b[0m\u001b[1;33m\u001b[0m\u001b[1;33m\u001b[0m\u001b[1;33m\u001b[0m\u001b[0m\n\u001b[1;32m----> 5\u001b[1;33m     \u001b[0mresponse\u001b[0m \u001b[1;33m=\u001b[0m \u001b[0mreq_proxy\u001b[0m\u001b[1;33m.\u001b[0m\u001b[0mgenerate_proxied_request\u001b[0m\u001b[1;33m(\u001b[0m\u001b[0mstocktwit_streams_url\u001b[0m\u001b[1;33m)\u001b[0m\u001b[1;33m\u001b[0m\u001b[1;33m\u001b[0m\u001b[0m\n\u001b[0m\u001b[0;32m      6\u001b[0m     \u001b[1;32mif\u001b[0m \u001b[0mresponse\u001b[0m \u001b[1;32mis\u001b[0m \u001b[1;32mnot\u001b[0m \u001b[1;32mNone\u001b[0m\u001b[1;33m:\u001b[0m\u001b[1;33m\u001b[0m\u001b[1;33m\u001b[0m\u001b[0m\n\u001b[0;32m      7\u001b[0m         \u001b[1;31m#Count the number of api hits\u001b[0m\u001b[1;33m\u001b[0m\u001b[1;33m\u001b[0m\u001b[1;33m\u001b[0m\u001b[0m\n",
      "\u001b[1;31mNameError\u001b[0m: name 'req_proxy' is not defined"
     ]
    }
   ],
   "source": [
    "count = 0\n",
    "api = 0\n",
    "while True:\n",
    "    #Get response \n",
    "    response = req_proxy.generate_proxied_request(stocktwit_streams_url)\n",
    "    if response is not None:\n",
    "        #Count the number of api hits\n",
    "        api += 1\n",
    "        \n",
    "        #Record data from response\n",
    "        response = json.loads(response.text)\n",
    "        print('This is the', count, 'JSON object of the response: \\n\\n', response)\n",
    "        if count == 50:\n",
    "            break\n"
   ]
  },
  {
   "cell_type": "code",
   "execution_count": 19,
   "metadata": {},
   "outputs": [],
   "source": [
    "# session_test = requests.Session()"
   ]
  },
  {
   "cell_type": "code",
   "execution_count": 90,
   "metadata": {},
   "outputs": [],
   "source": [
    "# This a GET request for the streams/friends API\n",
    "# session_test.request('GET', \n",
    "#                      stocktwit_streams_url, \n",
    "#                      data=body, #body is the message of the data. Will need to be converted to self.body\n",
    "#                      timeout=(3.05, 27), \n",
    "#                      stream=True, \n",
    "#                      #auth=auth, \n",
    "#                      #verify=self.verify, \n",
    "#                      #proxies = self.proxies\n",
    "#                     )"
   ]
  },
  {
   "cell_type": "code",
   "execution_count": null,
   "metadata": {},
   "outputs": [],
   "source": []
  }
 ],
 "metadata": {
  "kernelspec": {
   "display_name": "Momentum_Trading_Notifications",
   "language": "python",
   "name": "momentum_trading_notifications"
  },
  "language_info": {
   "codemirror_mode": {
    "name": "ipython",
    "version": 3
   },
   "file_extension": ".py",
   "mimetype": "text/x-python",
   "name": "python",
   "nbconvert_exporter": "python",
   "pygments_lexer": "ipython3",
   "version": "3.8.3"
  }
 },
 "nbformat": 4,
 "nbformat_minor": 4
}
