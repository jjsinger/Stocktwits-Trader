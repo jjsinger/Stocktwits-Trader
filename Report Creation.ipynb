{
 "cells": [
  {
   "cell_type": "markdown",
   "metadata": {},
   "source": [
    "# Report Creation"
   ]
  },
  {
   "cell_type": "code",
   "execution_count": 171,
   "metadata": {},
   "outputs": [],
   "source": [
    "import pandas as pd\n",
    "import matplotlib.pyplot as plt\n",
    "\n",
    "# Store directory string and filename in variables\n",
    "directory_str = \"C:\\\\Users\\Snowbird\\Documents\\Joshua\\Personal\\Technical\\GitHub\\Stocktwits\\\\\"\n",
    "filename = \"\\HC_metadata_and_metrics.csv\""
   ]
  },
  {
   "cell_type": "code",
   "execution_count": 154,
   "metadata": {},
   "outputs": [],
   "source": [
    "# Read in sp_500 assets. This is joined to asset metadata from the alpaca broker api\n",
    "sp_500_assets = pd.read_csv(\"C:\\\\Users\\Snowbird\\Documents\\Joshua\\Personal\\Technical\\GitHub\\Stocktwits\\sp_500_assets.csv\")\n",
    "HC_stocks = pd.read_csv(\"C:\\\\Users\\Snowbird\\Documents\\Joshua\\Personal\\Technical\\GitHub\\Stocktwits\\sp_500_HC_with_info.csv\")"
   ]
  },
  {
   "cell_type": "code",
   "execution_count": 155,
   "metadata": {},
   "outputs": [
    {
     "data": {
      "text/html": [
       "<div>\n",
       "<style scoped>\n",
       "    .dataframe tbody tr th:only-of-type {\n",
       "        vertical-align: middle;\n",
       "    }\n",
       "\n",
       "    .dataframe tbody tr th {\n",
       "        vertical-align: top;\n",
       "    }\n",
       "\n",
       "    .dataframe thead th {\n",
       "        text-align: right;\n",
       "    }\n",
       "</style>\n",
       "<table border=\"1\" class=\"dataframe\">\n",
       "  <thead>\n",
       "    <tr style=\"text-align: right;\">\n",
       "      <th></th>\n",
       "      <th>symbol</th>\n",
       "      <th>Security</th>\n",
       "      <th>SEC filings</th>\n",
       "      <th>GICS Sector</th>\n",
       "      <th>GICS Sub-Industry</th>\n",
       "      <th>Headquarters Location</th>\n",
       "      <th>State</th>\n",
       "      <th>Date first added</th>\n",
       "      <th>CIK</th>\n",
       "      <th>Founded</th>\n",
       "      <th>id</th>\n",
       "      <th>class</th>\n",
       "      <th>exchange</th>\n",
       "      <th>name</th>\n",
       "      <th>status</th>\n",
       "      <th>tradable</th>\n",
       "      <th>marginable</th>\n",
       "      <th>shortable</th>\n",
       "      <th>easy_to_borrow</th>\n",
       "      <th>fractionable</th>\n",
       "    </tr>\n",
       "  </thead>\n",
       "  <tbody>\n",
       "    <tr>\n",
       "      <th>0</th>\n",
       "      <td>CB</td>\n",
       "      <td>Chubb Limited</td>\n",
       "      <td>reports</td>\n",
       "      <td>Financials</td>\n",
       "      <td>Property &amp; Casualty Insurance</td>\n",
       "      <td>Zurich</td>\n",
       "      <td>Switzerland</td>\n",
       "      <td>7/15/2010</td>\n",
       "      <td>896159</td>\n",
       "      <td>1985</td>\n",
       "      <td>2453845c-4785-46de-b332-6ee2438da196</td>\n",
       "      <td>us_equity</td>\n",
       "      <td>NYSE</td>\n",
       "      <td>Chubb Limited</td>\n",
       "      <td>active</td>\n",
       "      <td>True</td>\n",
       "      <td>True</td>\n",
       "      <td>True</td>\n",
       "      <td>True</td>\n",
       "      <td>True</td>\n",
       "    </tr>\n",
       "    <tr>\n",
       "      <th>1</th>\n",
       "      <td>PENN</td>\n",
       "      <td>Penn National Gaming</td>\n",
       "      <td>reports</td>\n",
       "      <td>Consumer Discretionary</td>\n",
       "      <td>Casinos &amp; Gaming</td>\n",
       "      <td>Wyomissing</td>\n",
       "      <td>Pennsylvania</td>\n",
       "      <td>3/22/2021</td>\n",
       "      <td>921738</td>\n",
       "      <td>1972</td>\n",
       "      <td>02ee28f8-d7a5-41ef-b212-a66d8dd85c4d</td>\n",
       "      <td>us_equity</td>\n",
       "      <td>NASDAQ</td>\n",
       "      <td>Penn National Gaming, Inc. Common Stock</td>\n",
       "      <td>active</td>\n",
       "      <td>True</td>\n",
       "      <td>True</td>\n",
       "      <td>True</td>\n",
       "      <td>True</td>\n",
       "      <td>True</td>\n",
       "    </tr>\n",
       "    <tr>\n",
       "      <th>2</th>\n",
       "      <td>PNR</td>\n",
       "      <td>Pentair plc</td>\n",
       "      <td>reports</td>\n",
       "      <td>Industrials</td>\n",
       "      <td>Industrial Machinery</td>\n",
       "      <td>Worsley</td>\n",
       "      <td>UK</td>\n",
       "      <td>10/1/2012</td>\n",
       "      <td>77360</td>\n",
       "      <td>1966</td>\n",
       "      <td>c212e219-b17d-4ff1-99dd-30e3896122a3</td>\n",
       "      <td>us_equity</td>\n",
       "      <td>NYSE</td>\n",
       "      <td>Pentair plc</td>\n",
       "      <td>active</td>\n",
       "      <td>True</td>\n",
       "      <td>True</td>\n",
       "      <td>True</td>\n",
       "      <td>True</td>\n",
       "      <td>True</td>\n",
       "    </tr>\n",
       "    <tr>\n",
       "      <th>3</th>\n",
       "      <td>CVS</td>\n",
       "      <td>CVS Health</td>\n",
       "      <td>reports</td>\n",
       "      <td>Health Care</td>\n",
       "      <td>Health Care Services</td>\n",
       "      <td>Woonsocket</td>\n",
       "      <td>Rhode Island</td>\n",
       "      <td>3/4/1957</td>\n",
       "      <td>64803</td>\n",
       "      <td>1996</td>\n",
       "      <td>4f4530c8-5ba0-4b16-86ec-b0ce753c5ac8</td>\n",
       "      <td>us_equity</td>\n",
       "      <td>NYSE</td>\n",
       "      <td>CVS HEALTH CORPORATION</td>\n",
       "      <td>active</td>\n",
       "      <td>True</td>\n",
       "      <td>True</td>\n",
       "      <td>True</td>\n",
       "      <td>True</td>\n",
       "      <td>True</td>\n",
       "    </tr>\n",
       "    <tr>\n",
       "      <th>4</th>\n",
       "      <td>SWKS</td>\n",
       "      <td>Skyworks Solutions</td>\n",
       "      <td>reports</td>\n",
       "      <td>Information Technology</td>\n",
       "      <td>Semiconductors</td>\n",
       "      <td>Woburn</td>\n",
       "      <td>Massachusetts</td>\n",
       "      <td>3/12/2015</td>\n",
       "      <td>4127</td>\n",
       "      <td>2002</td>\n",
       "      <td>b2b91a9b-3ecd-45ed-bf53-1f7d0613e1e8</td>\n",
       "      <td>us_equity</td>\n",
       "      <td>NASDAQ</td>\n",
       "      <td>Skyworks Solutions, Inc. Common Stock</td>\n",
       "      <td>active</td>\n",
       "      <td>True</td>\n",
       "      <td>True</td>\n",
       "      <td>True</td>\n",
       "      <td>True</td>\n",
       "      <td>True</td>\n",
       "    </tr>\n",
       "  </tbody>\n",
       "</table>\n",
       "</div>"
      ],
      "text/plain": [
       "  symbol              Security SEC filings             GICS Sector  \\\n",
       "0     CB         Chubb Limited     reports              Financials   \n",
       "1   PENN  Penn National Gaming     reports  Consumer Discretionary   \n",
       "2    PNR           Pentair plc     reports             Industrials   \n",
       "3    CVS            CVS Health     reports             Health Care   \n",
       "4   SWKS    Skyworks Solutions     reports  Information Technology   \n",
       "\n",
       "               GICS Sub-Industry Headquarters Location           State  \\\n",
       "0  Property & Casualty Insurance                Zurich     Switzerland   \n",
       "1               Casinos & Gaming            Wyomissing    Pennsylvania   \n",
       "2           Industrial Machinery               Worsley              UK   \n",
       "3           Health Care Services            Woonsocket    Rhode Island   \n",
       "4                 Semiconductors                Woburn   Massachusetts   \n",
       "\n",
       "  Date first added     CIK Founded                                    id  \\\n",
       "0        7/15/2010  896159    1985  2453845c-4785-46de-b332-6ee2438da196   \n",
       "1        3/22/2021  921738    1972  02ee28f8-d7a5-41ef-b212-a66d8dd85c4d   \n",
       "2        10/1/2012   77360    1966  c212e219-b17d-4ff1-99dd-30e3896122a3   \n",
       "3         3/4/1957   64803    1996  4f4530c8-5ba0-4b16-86ec-b0ce753c5ac8   \n",
       "4        3/12/2015    4127    2002  b2b91a9b-3ecd-45ed-bf53-1f7d0613e1e8   \n",
       "\n",
       "       class exchange                                     name  status  \\\n",
       "0  us_equity     NYSE                            Chubb Limited  active   \n",
       "1  us_equity   NASDAQ  Penn National Gaming, Inc. Common Stock  active   \n",
       "2  us_equity     NYSE                              Pentair plc  active   \n",
       "3  us_equity     NYSE                   CVS HEALTH CORPORATION  active   \n",
       "4  us_equity   NASDAQ    Skyworks Solutions, Inc. Common Stock  active   \n",
       "\n",
       "   tradable  marginable  shortable  easy_to_borrow  fractionable  \n",
       "0      True        True       True            True          True  \n",
       "1      True        True       True            True          True  \n",
       "2      True        True       True            True          True  \n",
       "3      True        True       True            True          True  \n",
       "4      True        True       True            True          True  "
      ]
     },
     "execution_count": 155,
     "metadata": {},
     "output_type": "execute_result"
    }
   ],
   "source": [
    "sp_500_assets.head()"
   ]
  },
  {
   "cell_type": "markdown",
   "metadata": {},
   "source": [
    "## Get List of Stocks"
   ]
  },
  {
   "cell_type": "code",
   "execution_count": 156,
   "metadata": {},
   "outputs": [
    {
     "data": {
      "text/html": [
       "<div>\n",
       "<style scoped>\n",
       "    .dataframe tbody tr th:only-of-type {\n",
       "        vertical-align: middle;\n",
       "    }\n",
       "\n",
       "    .dataframe tbody tr th {\n",
       "        vertical-align: top;\n",
       "    }\n",
       "\n",
       "    .dataframe thead th {\n",
       "        text-align: right;\n",
       "    }\n",
       "</style>\n",
       "<table border=\"1\" class=\"dataframe\">\n",
       "  <thead>\n",
       "    <tr style=\"text-align: right;\">\n",
       "      <th></th>\n",
       "      <th>symbol</th>\n",
       "      <th>Security</th>\n",
       "      <th>SEC filings</th>\n",
       "      <th>GICS Sector</th>\n",
       "      <th>GICS Sub-Industry</th>\n",
       "      <th>Headquarters Location</th>\n",
       "      <th>State</th>\n",
       "      <th>Date first added</th>\n",
       "      <th>CIK</th>\n",
       "      <th>Founded</th>\n",
       "      <th>id</th>\n",
       "      <th>class</th>\n",
       "      <th>exchange</th>\n",
       "      <th>name</th>\n",
       "      <th>status</th>\n",
       "      <th>tradable</th>\n",
       "      <th>marginable</th>\n",
       "      <th>shortable</th>\n",
       "      <th>easy_to_borrow</th>\n",
       "      <th>fractionable</th>\n",
       "    </tr>\n",
       "  </thead>\n",
       "  <tbody>\n",
       "    <tr>\n",
       "      <th>216</th>\n",
       "      <td>JNJ</td>\n",
       "      <td>Johnson &amp; Johnson</td>\n",
       "      <td>reports</td>\n",
       "      <td>Health Care</td>\n",
       "      <td>Pharmaceuticals</td>\n",
       "      <td>New Brunswick</td>\n",
       "      <td>New Jersey</td>\n",
       "      <td>6/30/1973</td>\n",
       "      <td>200406</td>\n",
       "      <td>1886</td>\n",
       "      <td>ef9adcc6-6bce-452b-af5f-4a87e7f19131</td>\n",
       "      <td>us_equity</td>\n",
       "      <td>NYSE</td>\n",
       "      <td>Johnson &amp; Johnson</td>\n",
       "      <td>active</td>\n",
       "      <td>True</td>\n",
       "      <td>True</td>\n",
       "      <td>True</td>\n",
       "      <td>True</td>\n",
       "      <td>True</td>\n",
       "    </tr>\n",
       "  </tbody>\n",
       "</table>\n",
       "</div>"
      ],
      "text/plain": [
       "    symbol           Security SEC filings  GICS Sector GICS Sub-Industry  \\\n",
       "216    JNJ  Johnson & Johnson     reports  Health Care   Pharmaceuticals   \n",
       "\n",
       "    Headquarters Location        State Date first added     CIK Founded  \\\n",
       "216         New Brunswick   New Jersey        6/30/1973  200406    1886   \n",
       "\n",
       "                                       id      class exchange  \\\n",
       "216  ef9adcc6-6bce-452b-af5f-4a87e7f19131  us_equity     NYSE   \n",
       "\n",
       "                  name  status  tradable  marginable  shortable  \\\n",
       "216  Johnson & Johnson  active      True        True       True   \n",
       "\n",
       "     easy_to_borrow  fractionable  \n",
       "216            True          True  "
      ]
     },
     "execution_count": 156,
     "metadata": {},
     "output_type": "execute_result"
    }
   ],
   "source": [
    "sp_500_assets[sp_500_assets['symbol'] =='JNJ']"
   ]
  },
  {
   "cell_type": "code",
   "execution_count": 157,
   "metadata": {},
   "outputs": [],
   "source": [
    "value_list = ['JNJ', 'PFE', 'UNH', 'ABT', 'ABBV', 'MRK', 'MDT', 'DHR', 'LLY']"
   ]
  },
  {
   "cell_type": "code",
   "execution_count": 158,
   "metadata": {},
   "outputs": [
    {
     "data": {
      "text/plain": [
       "'\\\\HC_metadata_and_metrics.csv'"
      ]
     },
     "execution_count": 158,
     "metadata": {},
     "output_type": "execute_result"
    }
   ],
   "source": [
    "filename"
   ]
  },
  {
   "cell_type": "code",
   "execution_count": 159,
   "metadata": {},
   "outputs": [
    {
     "data": {
      "text/html": [
       "<div>\n",
       "<style scoped>\n",
       "    .dataframe tbody tr th:only-of-type {\n",
       "        vertical-align: middle;\n",
       "    }\n",
       "\n",
       "    .dataframe tbody tr th {\n",
       "        vertical-align: top;\n",
       "    }\n",
       "\n",
       "    .dataframe thead th {\n",
       "        text-align: right;\n",
       "    }\n",
       "</style>\n",
       "<table border=\"1\" class=\"dataframe\">\n",
       "  <thead>\n",
       "    <tr style=\"text-align: right;\">\n",
       "      <th></th>\n",
       "      <th>symbol</th>\n",
       "      <th>Security</th>\n",
       "      <th>SEC filings</th>\n",
       "      <th>GICS Sector</th>\n",
       "      <th>GICS Sub-Industry</th>\n",
       "      <th>Headquarters Location</th>\n",
       "      <th>State</th>\n",
       "      <th>Date first added</th>\n",
       "      <th>CIK</th>\n",
       "      <th>Founded</th>\n",
       "      <th>id</th>\n",
       "      <th>class</th>\n",
       "      <th>exchange</th>\n",
       "      <th>name</th>\n",
       "      <th>status</th>\n",
       "      <th>tradable</th>\n",
       "      <th>marginable</th>\n",
       "      <th>shortable</th>\n",
       "      <th>easy_to_borrow</th>\n",
       "      <th>fractionable</th>\n",
       "    </tr>\n",
       "  </thead>\n",
       "  <tbody>\n",
       "    <tr>\n",
       "      <th>18</th>\n",
       "      <td>DHR</td>\n",
       "      <td>Danaher Corp.</td>\n",
       "      <td>reports</td>\n",
       "      <td>Health Care</td>\n",
       "      <td>Health Care Equipment</td>\n",
       "      <td>Washington</td>\n",
       "      <td>D.C.</td>\n",
       "      <td>NaN</td>\n",
       "      <td>313616</td>\n",
       "      <td>1969</td>\n",
       "      <td>42f6d400-741b-4a18-ae61-73faae71e2cb</td>\n",
       "      <td>us_equity</td>\n",
       "      <td>NYSE</td>\n",
       "      <td>Danaher Corporation</td>\n",
       "      <td>active</td>\n",
       "      <td>True</td>\n",
       "      <td>True</td>\n",
       "      <td>True</td>\n",
       "      <td>True</td>\n",
       "      <td>True</td>\n",
       "    </tr>\n",
       "    <tr>\n",
       "      <th>164</th>\n",
       "      <td>ABT</td>\n",
       "      <td>Abbott Laboratories</td>\n",
       "      <td>reports</td>\n",
       "      <td>Health Care</td>\n",
       "      <td>Health Care Equipment</td>\n",
       "      <td>North Chicago</td>\n",
       "      <td>Illinois</td>\n",
       "      <td>3/31/1964</td>\n",
       "      <td>1800</td>\n",
       "      <td>1888</td>\n",
       "      <td>a097c03a-7ebe-4de6-b729-a82370cd2a6e</td>\n",
       "      <td>us_equity</td>\n",
       "      <td>NYSE</td>\n",
       "      <td>Abbott Laboratories</td>\n",
       "      <td>active</td>\n",
       "      <td>True</td>\n",
       "      <td>True</td>\n",
       "      <td>True</td>\n",
       "      <td>True</td>\n",
       "      <td>True</td>\n",
       "    </tr>\n",
       "    <tr>\n",
       "      <th>165</th>\n",
       "      <td>ABBV</td>\n",
       "      <td>AbbVie Inc.</td>\n",
       "      <td>reports</td>\n",
       "      <td>Health Care</td>\n",
       "      <td>Pharmaceuticals</td>\n",
       "      <td>North Chicago</td>\n",
       "      <td>Illinois</td>\n",
       "      <td>12/31/2012</td>\n",
       "      <td>1551152</td>\n",
       "      <td>2013 (1888)</td>\n",
       "      <td>09a51104-980a-47b6-ad4d-e4f04059be4a</td>\n",
       "      <td>us_equity</td>\n",
       "      <td>NYSE</td>\n",
       "      <td>ABBVIE INC.</td>\n",
       "      <td>active</td>\n",
       "      <td>True</td>\n",
       "      <td>True</td>\n",
       "      <td>True</td>\n",
       "      <td>True</td>\n",
       "      <td>True</td>\n",
       "    </tr>\n",
       "    <tr>\n",
       "      <th>211</th>\n",
       "      <td>PFE</td>\n",
       "      <td>Pfizer Inc.</td>\n",
       "      <td>reports</td>\n",
       "      <td>Health Care</td>\n",
       "      <td>Pharmaceuticals</td>\n",
       "      <td>New York</td>\n",
       "      <td>New York</td>\n",
       "      <td>3/4/1957</td>\n",
       "      <td>78003</td>\n",
       "      <td>1849</td>\n",
       "      <td>b0940983-b0c6-42f1-97d5-b1b580e4431b</td>\n",
       "      <td>us_equity</td>\n",
       "      <td>NYSE</td>\n",
       "      <td>Pfizer Inc.</td>\n",
       "      <td>active</td>\n",
       "      <td>True</td>\n",
       "      <td>True</td>\n",
       "      <td>True</td>\n",
       "      <td>True</td>\n",
       "      <td>True</td>\n",
       "    </tr>\n",
       "    <tr>\n",
       "      <th>216</th>\n",
       "      <td>JNJ</td>\n",
       "      <td>Johnson &amp; Johnson</td>\n",
       "      <td>reports</td>\n",
       "      <td>Health Care</td>\n",
       "      <td>Pharmaceuticals</td>\n",
       "      <td>New Brunswick</td>\n",
       "      <td>New Jersey</td>\n",
       "      <td>6/30/1973</td>\n",
       "      <td>200406</td>\n",
       "      <td>1886</td>\n",
       "      <td>ef9adcc6-6bce-452b-af5f-4a87e7f19131</td>\n",
       "      <td>us_equity</td>\n",
       "      <td>NYSE</td>\n",
       "      <td>Johnson &amp; Johnson</td>\n",
       "      <td>active</td>\n",
       "      <td>True</td>\n",
       "      <td>True</td>\n",
       "      <td>True</td>\n",
       "      <td>True</td>\n",
       "      <td>True</td>\n",
       "    </tr>\n",
       "    <tr>\n",
       "      <th>227</th>\n",
       "      <td>UNH</td>\n",
       "      <td>UnitedHealth Group Inc.</td>\n",
       "      <td>reports</td>\n",
       "      <td>Health Care</td>\n",
       "      <td>Managed Health Care</td>\n",
       "      <td>Minnetonka</td>\n",
       "      <td>Minnesota</td>\n",
       "      <td>7/1/1994</td>\n",
       "      <td>731766</td>\n",
       "      <td>1977</td>\n",
       "      <td>943bb7c3-0fb0-4088-9a37-62549b5dc528</td>\n",
       "      <td>us_equity</td>\n",
       "      <td>NYSE</td>\n",
       "      <td>UNITEDHEALTH GROUP INCORPORATED (Delaware)</td>\n",
       "      <td>active</td>\n",
       "      <td>True</td>\n",
       "      <td>True</td>\n",
       "      <td>True</td>\n",
       "      <td>True</td>\n",
       "      <td>True</td>\n",
       "    </tr>\n",
       "    <tr>\n",
       "      <th>283</th>\n",
       "      <td>MRK</td>\n",
       "      <td>Merck &amp; Co.</td>\n",
       "      <td>reports</td>\n",
       "      <td>Health Care</td>\n",
       "      <td>Pharmaceuticals</td>\n",
       "      <td>Kenilworth</td>\n",
       "      <td>New Jersey</td>\n",
       "      <td>3/4/1957</td>\n",
       "      <td>310158</td>\n",
       "      <td>1891</td>\n",
       "      <td>0d56791f-7395-40fa-853b-7b852bd9a7bf</td>\n",
       "      <td>us_equity</td>\n",
       "      <td>NYSE</td>\n",
       "      <td>Merck &amp; Co., Inc.</td>\n",
       "      <td>active</td>\n",
       "      <td>True</td>\n",
       "      <td>True</td>\n",
       "      <td>True</td>\n",
       "      <td>True</td>\n",
       "      <td>True</td>\n",
       "    </tr>\n",
       "    <tr>\n",
       "      <th>302</th>\n",
       "      <td>LLY</td>\n",
       "      <td>Lilly (Eli) &amp; Co.</td>\n",
       "      <td>reports</td>\n",
       "      <td>Health Care</td>\n",
       "      <td>Pharmaceuticals</td>\n",
       "      <td>Indianapolis</td>\n",
       "      <td>Indiana</td>\n",
       "      <td>12/31/1970</td>\n",
       "      <td>59478</td>\n",
       "      <td>1876</td>\n",
       "      <td>87266a27-1b34-47bd-b236-bd3a9f59b138</td>\n",
       "      <td>us_equity</td>\n",
       "      <td>NYSE</td>\n",
       "      <td>Eli Lilly &amp; Co.</td>\n",
       "      <td>active</td>\n",
       "      <td>True</td>\n",
       "      <td>True</td>\n",
       "      <td>True</td>\n",
       "      <td>True</td>\n",
       "      <td>True</td>\n",
       "    </tr>\n",
       "    <tr>\n",
       "      <th>364</th>\n",
       "      <td>MDT</td>\n",
       "      <td>Medtronic plc</td>\n",
       "      <td>reports</td>\n",
       "      <td>Health Care</td>\n",
       "      <td>Health Care Equipment</td>\n",
       "      <td>Dublin</td>\n",
       "      <td>Ireland</td>\n",
       "      <td>10/31/1986</td>\n",
       "      <td>1613103</td>\n",
       "      <td>1949</td>\n",
       "      <td>1fc2849e-26d5-4f49-add6-2f913ded54c9</td>\n",
       "      <td>us_equity</td>\n",
       "      <td>NYSE</td>\n",
       "      <td>Medtronic plc</td>\n",
       "      <td>active</td>\n",
       "      <td>True</td>\n",
       "      <td>True</td>\n",
       "      <td>True</td>\n",
       "      <td>True</td>\n",
       "      <td>True</td>\n",
       "    </tr>\n",
       "  </tbody>\n",
       "</table>\n",
       "</div>"
      ],
      "text/plain": [
       "    symbol                 Security SEC filings  GICS Sector  \\\n",
       "18     DHR            Danaher Corp.     reports  Health Care   \n",
       "164    ABT      Abbott Laboratories     reports  Health Care   \n",
       "165   ABBV              AbbVie Inc.     reports  Health Care   \n",
       "211    PFE              Pfizer Inc.     reports  Health Care   \n",
       "216    JNJ        Johnson & Johnson     reports  Health Care   \n",
       "227    UNH  UnitedHealth Group Inc.     reports  Health Care   \n",
       "283    MRK              Merck & Co.     reports  Health Care   \n",
       "302    LLY        Lilly (Eli) & Co.     reports  Health Care   \n",
       "364    MDT            Medtronic plc     reports  Health Care   \n",
       "\n",
       "         GICS Sub-Industry Headquarters Location        State  \\\n",
       "18   Health Care Equipment            Washington         D.C.   \n",
       "164  Health Care Equipment         North Chicago     Illinois   \n",
       "165        Pharmaceuticals         North Chicago     Illinois   \n",
       "211        Pharmaceuticals              New York     New York   \n",
       "216        Pharmaceuticals         New Brunswick   New Jersey   \n",
       "227    Managed Health Care            Minnetonka    Minnesota   \n",
       "283        Pharmaceuticals            Kenilworth   New Jersey   \n",
       "302        Pharmaceuticals          Indianapolis      Indiana   \n",
       "364  Health Care Equipment                Dublin      Ireland   \n",
       "\n",
       "    Date first added      CIK      Founded  \\\n",
       "18               NaN   313616         1969   \n",
       "164        3/31/1964     1800         1888   \n",
       "165       12/31/2012  1551152  2013 (1888)   \n",
       "211         3/4/1957    78003         1849   \n",
       "216        6/30/1973   200406         1886   \n",
       "227         7/1/1994   731766         1977   \n",
       "283         3/4/1957   310158         1891   \n",
       "302       12/31/1970    59478         1876   \n",
       "364       10/31/1986  1613103         1949   \n",
       "\n",
       "                                       id      class exchange  \\\n",
       "18   42f6d400-741b-4a18-ae61-73faae71e2cb  us_equity     NYSE   \n",
       "164  a097c03a-7ebe-4de6-b729-a82370cd2a6e  us_equity     NYSE   \n",
       "165  09a51104-980a-47b6-ad4d-e4f04059be4a  us_equity     NYSE   \n",
       "211  b0940983-b0c6-42f1-97d5-b1b580e4431b  us_equity     NYSE   \n",
       "216  ef9adcc6-6bce-452b-af5f-4a87e7f19131  us_equity     NYSE   \n",
       "227  943bb7c3-0fb0-4088-9a37-62549b5dc528  us_equity     NYSE   \n",
       "283  0d56791f-7395-40fa-853b-7b852bd9a7bf  us_equity     NYSE   \n",
       "302  87266a27-1b34-47bd-b236-bd3a9f59b138  us_equity     NYSE   \n",
       "364  1fc2849e-26d5-4f49-add6-2f913ded54c9  us_equity     NYSE   \n",
       "\n",
       "                                           name  status  tradable  marginable  \\\n",
       "18                          Danaher Corporation  active      True        True   \n",
       "164                         Abbott Laboratories  active      True        True   \n",
       "165                                 ABBVIE INC.  active      True        True   \n",
       "211                                 Pfizer Inc.  active      True        True   \n",
       "216                           Johnson & Johnson  active      True        True   \n",
       "227  UNITEDHEALTH GROUP INCORPORATED (Delaware)  active      True        True   \n",
       "283                           Merck & Co., Inc.  active      True        True   \n",
       "302                             Eli Lilly & Co.  active      True        True   \n",
       "364                               Medtronic plc  active      True        True   \n",
       "\n",
       "     shortable  easy_to_borrow  fractionable  \n",
       "18        True            True          True  \n",
       "164       True            True          True  \n",
       "165       True            True          True  \n",
       "211       True            True          True  \n",
       "216       True            True          True  \n",
       "227       True            True          True  \n",
       "283       True            True          True  \n",
       "302       True            True          True  \n",
       "364       True            True          True  "
      ]
     },
     "execution_count": 159,
     "metadata": {},
     "output_type": "execute_result"
    }
   ],
   "source": [
    "# HC_only_filename = 'HC_metadata_and_metrics.csv'\n",
    "sp_500_assets[sp_500_assets.symbol.isin(value_list)]#.to_csv(directory_str + filename)"
   ]
  },
  {
   "cell_type": "markdown",
   "metadata": {},
   "source": [
    "### Get metrics"
   ]
  },
  {
   "cell_type": "code",
   "execution_count": 160,
   "metadata": {},
   "outputs": [
    {
     "data": {
      "text/plain": [
       "zip                      9\n",
       "sector                   9\n",
       "fullTimeEmployees        9\n",
       "longBusinessSummary      9\n",
       "city                     9\n",
       "                        ..\n",
       "fiveYearAverageReturn    0\n",
       "regularMarketPrice       9\n",
       "logo_url                 9\n",
       "address2                 4\n",
       "fax                      1\n",
       "Length: 125, dtype: int64"
      ]
     },
     "execution_count": 160,
     "metadata": {},
     "output_type": "execute_result"
    }
   ],
   "source": [
    "HC_stocks.count()"
   ]
  },
  {
   "cell_type": "code",
   "execution_count": 161,
   "metadata": {},
   "outputs": [],
   "source": [
    "ls_metrics = ['symbol', 'trailingPE', \n",
    "              'forwardPE', 'regularMarketPreviousClose', 'fiftyTwoWeekHigh', \n",
    "              'pricetosalestrailing', 'profitMargins', 'sharesShort', 'priceToBook', \n",
    "              'earningsQuarterlyGrowth', 'dividendRate', 'fiveYearAverageReturn',\n",
    "              'trailingEps', 'forwardEps']\n",
    "ls_metadata = ['symbol', 'Security', 'GICS Sector', 'Headquarters Location']\n",
    "ls_columns = list(HC_stocks.columns)"
   ]
  },
  {
   "cell_type": "code",
   "execution_count": 162,
   "metadata": {},
   "outputs": [],
   "source": [
    "# HC_stocks.columns = ls_metrics\n",
    "HC_metrics = HC_stocks.filter(ls_metrics)\n",
    "HC_metadata_metrics = pd.merge(sp_500_assets.filter(ls_metadata), HC_metrics, how='inner', on='symbol')"
   ]
  },
  {
   "cell_type": "markdown",
   "metadata": {},
   "source": [
    "### Add Date"
   ]
  },
  {
   "cell_type": "code",
   "execution_count": 193,
   "metadata": {},
   "outputs": [],
   "source": [
    "from datetime import datetime as dt, date, timedelta\n",
    "date_col_name = 'ingest_date'\n",
    "\n",
    "todays_date = dt.today().strftime('%Y-%m-%d')\n",
    "\n",
    "HC_metadata_metrics[date_col_name] = todays_date"
   ]
  },
  {
   "cell_type": "markdown",
   "metadata": {},
   "source": [
    "### Write out Healthcare metadata and metrics"
   ]
  },
  {
   "cell_type": "code",
   "execution_count": 174,
   "metadata": {},
   "outputs": [
    {
     "data": {
      "text/plain": [
       "'C:\\\\Users\\\\Snowbird\\\\Documents\\\\Joshua\\\\Personal\\\\Technical\\\\GitHub\\\\Stocktwits\\\\master.csv'"
      ]
     },
     "execution_count": 174,
     "metadata": {},
     "output_type": "execute_result"
    }
   ],
   "source": [
    "f'{directory_str}master.csv'"
   ]
  },
  {
   "cell_type": "code",
   "execution_count": null,
   "metadata": {},
   "outputs": [],
   "source": [
    "master = pd.read_csv(\"C:\\\\Users\\Snowbird\\Documents\\Joshua\\Personal\\Technical\\GitHub\\Stocktwits\\master.csv\")\n",
    "# HC_metadata_metrics.to_csv(f'{directory_str}master.csv')"
   ]
  },
  {
   "cell_type": "code",
   "execution_count": null,
   "metadata": {},
   "outputs": [],
   "source": [
    "full_df = pd.concat([master, HC_metadata_metrics])\n",
    "full_df.count()"
   ]
  },
  {
   "cell_type": "code",
   "execution_count": 197,
   "metadata": {},
   "outputs": [
    {
     "data": {
      "text/plain": [
       "17"
      ]
     },
     "execution_count": 197,
     "metadata": {},
     "output_type": "execute_result"
    }
   ],
   "source": [
    "len(full_df.columns)"
   ]
  },
  {
   "cell_type": "code",
   "execution_count": null,
   "metadata": {},
   "outputs": [],
   "source": [
    "full_df.to_csv(f'{directory_str}master.csv')"
   ]
  },
  {
   "cell_type": "markdown",
   "metadata": {},
   "source": [
    "### Generate a plot"
   ]
  },
  {
   "cell_type": "code",
   "execution_count": 19,
   "metadata": {},
   "outputs": [
    {
     "data": {
      "image/png": "[encoded data removed]",
      "text/plain": [
       "<Figure size 432x288 with 1 Axes>"
      ]
     },
     "metadata": {
      "needs_background": "light"
     },
     "output_type": "display_data"
    }
   ],
   "source": [
    "# regularMarketPreviousClose\n",
    "yaxis = 'regularMarketPreviousClose'\n",
    "if todays_date == dt.today():\n",
    "    plt.bar(full_df['symbol'],HC_metadata_metrics[yaxis])\n",
    "    plt.title(f'{yaxis} by Stock')\n",
    "    plt.xlabel('Stock')\n",
    "    plt.ylabel(f'{yaxis}')\n",
    "    plt.show()"
   ]
  },
  {
   "cell_type": "code",
   "execution_count": 18,
   "metadata": {},
   "outputs": [
    {
     "data": {
      "image/png": "[encoded data removed]",
      "text/plain": [
       "<Figure size 432x288 with 1 Axes>"
      ]
     },
     "metadata": {
      "needs_background": "light"
     },
     "output_type": "display_data"
    }
   ],
   "source": [
    "# regularMarketPreviousClose\n",
    "yaxis = 'earningsQuarterlyGrowth'\n",
    "if todays_date == dt.today():\n",
    "    plt.bar(HC_metadata_metrics['symbol'],HC_metadata_metrics[yaxis])\n",
    "    plt.title(f'{yaxis} by Stock')\n",
    "    plt.xlabel('Stock')\n",
    "    plt.ylabel(f'{yaxis}')\n",
    "    plt.show()"
   ]
  },
  {
   "cell_type": "code",
   "execution_count": 16,
   "metadata": {},
   "outputs": [
    {
     "data": {
      "image/png": "[encoded data removed]",
      "text/plain": [
       "<Figure size 432x288 with 1 Axes>"
      ]
     },
     "metadata": {
      "needs_background": "light"
     },
     "output_type": "display_data"
    }
   ],
   "source": [
    "# asdf\n",
    "yaxis = 'forwardPE'\n",
    "if todays_date == dt.today():\n",
    "    plt.bar(HC_metadata_metrics['symbol'],HC_metadata_metrics[yaxis])\n",
    "    plt.title(f'{yaxis} by Stock')\n",
    "    plt.xlabel('Stock')\n",
    "    plt.ylabel(f'{yaxis}')\n",
    "    plt.show()"
   ]
  },
  {
   "cell_type": "code",
   "execution_count": 204,
   "metadata": {},
   "outputs": [
    {
     "ename": "NameError",
     "evalue": "name 'full_df' is not defined",
     "output_type": "error",
     "traceback": [
      "\u001b[1;31m---------------------------------------------------------------------------\u001b[0m",
      "\u001b[1;31mNameError\u001b[0m                                 Traceback (most recent call last)",
      "\u001b[1;32m<ipython-input-204-3c7297abd118>\u001b[0m in \u001b[0;36m<module>\u001b[1;34m\u001b[0m\n\u001b[1;32m----> 1\u001b[1;33m \u001b[0mfull_df\u001b[0m\u001b[1;33m.\u001b[0m\u001b[0mhead\u001b[0m\u001b[1;33m(\u001b[0m\u001b[1;33m)\u001b[0m\u001b[1;33m\u001b[0m\u001b[1;33m\u001b[0m\u001b[0m\n\u001b[0m",
      "\u001b[1;31mNameError\u001b[0m: name 'full_df' is not defined"
     ]
    }
   ],
   "source": [
    "full_df.head()"
   ]
  },
  {
   "cell_type": "markdown",
   "metadata": {},
   "source": [
    "### Run Email Script"
   ]
  },
  {
   "cell_type": "code",
   "execution_count": 211,
   "metadata": {},
   "outputs": [
    {
     "name": "stdout",
     "output_type": "stream",
     "text": [
      "Mail Sent to will.sant.id@gmail.com\n",
      "Wall time: 1.82 s\n"
     ]
    }
   ],
   "source": []
  },
  {
   "cell_type": "code",
   "execution_count": 216,
   "metadata": {},
   "outputs": [
    {
     "name": "stdout",
     "output_type": "stream",
     "text": [
      "Mail Sent to parkerjayrobbins@gmail.com\n",
      "Wall time: 1.81 s\n"
     ]
    }
   ],
   "source": [
    "%%time\n",
    "\n",
    "%run \"Email Script.ipynb\""
   ]
  },
  {
   "cell_type": "code",
   "execution_count": null,
   "metadata": {},
   "outputs": [],
   "source": [
    "# ARCHIVES"
   ]
  },
  {
   "cell_type": "code",
   "execution_count": null,
   "metadata": {},
   "outputs": [],
   "source": [
    "# # import smtplib\n",
    "# # import mimetypes\n",
    "# # from email.mime.multipart import MIMEMultipart\n",
    "# # from email import encoders\n",
    "# # from email.message import Message\n",
    "# # from email.mime.audio import MIMEAudio\n",
    "# # from email.mime.base import MIMEBase\n",
    "# # from email.mime.image import MIMEImage\n",
    "# # from email.mime.text import MIMEText\n",
    "\n",
    "# # emailfrom = \"sender@example.com\"\n",
    "# # emailto = \"destination@example.com\"\n",
    "# # fileToSend = \"hi.csv\"\n",
    "# # username = \"user\"\n",
    "# # password = \"password\"\n",
    "\n",
    "# # msg = MIMEMultipart()\n",
    "# # msg[\"From\"] = emailfrom\n",
    "# # msg[\"To\"] = emailto\n",
    "# # msg[\"Subject\"] = \"help I cannot send an attachment to save my life\"\n",
    "# # msg.preamble = \"help I cannot send an attachment to save my life\"\n",
    "\n",
    "# ctype, encoding = mimetypes.guess_type(fileToSend)\n",
    "# if ctype is None or encoding is not None:\n",
    "#     ctype = \"application/octet-stream\"\n",
    "\n",
    "# maintype, subtype = ctype.split(\"/\", 1)\n",
    "\n",
    "# if maintype == \"text\":\n",
    "#     fp = open(fileToSend)\n",
    "#     # Note: we should handle calculating the charset\n",
    "#     attachment = MIMEText(fp.read(), _subtype=subtype)\n",
    "#     fp.close()\n",
    "# elif maintype == \"image\":\n",
    "#     fp = open(fileToSend, \"rb\")\n",
    "#     attachment = MIMEImage(fp.read(), _subtype=subtype)\n",
    "#     fp.close()\n",
    "# elif maintype == \"audio\":\n",
    "#     fp = open(fileToSend, \"rb\")\n",
    "#     attachment = MIMEAudio(fp.read(), _subtype=subtype)\n",
    "#     fp.close()\n",
    "# else:\n",
    "#     fp = open(fileToSend, \"rb\")\n",
    "#     attachment = MIMEBase(maintype, subtype)\n",
    "#     attachment.set_payload(fp.read())\n",
    "#     fp.close()\n",
    "#     encoders.encode_base64(attachment)\n",
    "# attachment.add_header(\"Content-Disposition\", \"attachment\", filename=fileToSend)\n",
    "# msg.attach(attachment)\n",
    "\n",
    "# server = smtplib.SMTP(\"smtp.gmail.com:587\")\n",
    "# server.starttls()\n",
    "# server.login(username,password)\n",
    "# server.sendmail(emailfrom, emailto, msg.as_string())\n",
    "# server.quit()"
   ]
  }
 ],
 "metadata": {
  "kernelspec": {
   "display_name": "test1",
   "language": "python",
   "name": "test1"
  },
  "language_info": {
   "codemirror_mode": {
    "name": "ipython",
    "version": 3
   },
   "file_extension": ".py",
   "mimetype": "text/x-python",
   "name": "python",
   "nbconvert_exporter": "python",
   "pygments_lexer": "ipython3",
   "version": "3.8.3"
  }
 },
 "nbformat": 4,
 "nbformat_minor": 4
}
