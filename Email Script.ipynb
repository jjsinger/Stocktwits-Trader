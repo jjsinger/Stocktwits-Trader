{
 "cells": [
  {
   "cell_type": "markdown",
   "metadata": {},
   "source": [
    "# Send Automated Email\n",
    "\n",
    "This notebook reads in the csv and will email the data to any specified recipient\n",
    "\n",
    ">Recipient List: Will Sant, will.sant.id@gmail.com"
   ]
  },
  {
   "cell_type": "code",
   "execution_count": 3,
   "metadata": {},
   "outputs": [],
   "source": [
    "#Import email, smtplib, ssl, and MIME libraries to do the following\n",
    "# 1. Create an email object using MIME: Multipurpose Internet Mail Extensions\n",
    "import email, smtplib, ssl\n",
    "from email import encoders\n",
    "from email.mime.base import MIMEBase\n",
    "from email.mime.multipart import MIMEMultipart\n",
    "from email.mime.text import MIMEText\n",
    "\n",
    "import mimetypes"
   ]
  },
  {
   "cell_type": "code",
   "execution_count": 4,
   "metadata": {},
   "outputs": [],
   "source": [
    "# Store directory string and filename in variables\n",
    "directory_str = \"C:\\\\Users\\Snowbird\\Documents\\Joshua\\Personal\\Technical\\GitHub\\Stocktwits\"\n",
    "filename = \"\\HC_metadata_and_metrics.csv\""
   ]
  },
  {
   "cell_type": "code",
   "execution_count": 18,
   "metadata": {},
   "outputs": [],
   "source": [
    "# assign key email aspects to variables for easier future editing\n",
    "subject = \"Weekly Report\"\n",
    "body = \"Hey Baby\"\n",
    "sender_email = \"joshua.singer712@gmail.com\"\n",
    "receiver_email = \"parkerjayrobbins@gmail.com\" #\"will.sant.id@gmail.com\" #\"joshua.singer712@gmail.com\" #\"tyler@shyftglobal.com\" #\"jt.conoverbyui@gmail.com\"\n",
    "file = f\"{directory_str}_{filename}\" # in the same directory as script\n",
    "password = \"Jchevre1*\"\n",
    "\n",
    "# Create the email head (sender, receiver, and subject)\n",
    "email = MIMEMultipart()\n",
    "email[\"From\"] = sender_email\n",
    "email[\"To\"] = receiver_email \n",
    "email[\"Subject\"] = subject"
   ]
  },
  {
   "cell_type": "code",
   "execution_count": 19,
   "metadata": {},
   "outputs": [
    {
     "data": {
      "text/plain": [
       "'parkerjayrobbins@gmail.com'"
      ]
     },
     "execution_count": 19,
     "metadata": {},
     "output_type": "execute_result"
    }
   ],
   "source": [
    "receiver_email"
   ]
  },
  {
   "cell_type": "markdown",
   "metadata": {},
   "source": [
    "### Ingest & Configure"
   ]
  },
  {
   "cell_type": "code",
   "execution_count": 6,
   "metadata": {},
   "outputs": [
    {
     "data": {
      "text/plain": [
       "'C:\\\\Users\\\\Snowbird\\\\Documents\\\\Joshua\\\\Personal\\\\Technical\\\\GitHub\\\\Stocktwits\\\\HC_metadata_and_metrics.csv'"
      ]
     },
     "execution_count": 6,
     "metadata": {},
     "output_type": "execute_result"
    }
   ],
   "source": [
    "file = directory_str + filename\n",
    "file"
   ]
  },
  {
   "cell_type": "code",
   "execution_count": 7,
   "metadata": {},
   "outputs": [],
   "source": [
    "# Determine maintype and subtype\n",
    "ctype, encoding = mimetypes.guess_type(file)\n",
    "if ctype is None or encoding is not None:\n",
    "    ctype = \"application/octet-stream\"\n",
    "\n",
    "maintype, subtype = ctype.split(\"/\", 1)"
   ]
  },
  {
   "cell_type": "code",
   "execution_count": 8,
   "metadata": {},
   "outputs": [],
   "source": [
    "# Open file\n",
    "fp = open(file, 'r')\n",
    "# Note: we should handle calculating the charset\n",
    "attachment = MIMEText(fp.read(), _subtype=subtype)\n",
    "fp.close()"
   ]
  },
  {
   "cell_type": "code",
   "execution_count": 9,
   "metadata": {},
   "outputs": [],
   "source": [
    "attachment.add_header(\"Content-Disposition\", \"attachment\", filename=file)\n",
    "email.attach(attachment)"
   ]
  },
  {
   "cell_type": "markdown",
   "metadata": {},
   "source": [
    "# Send the email"
   ]
  },
  {
   "cell_type": "code",
   "execution_count": 10,
   "metadata": {},
   "outputs": [
    {
     "name": "stdout",
     "output_type": "stream",
     "text": [
      "Mail Sent to joshua.singer712@gmail.com\n"
     ]
    }
   ],
   "source": [
    "#Create SMTP session for sending the mail\n",
    "session = smtplib.SMTP('smtp.gmail.com', 587) #use gmail with port\n",
    "session.starttls() #enable security\n",
    "session.login(sender_email, password) #login with mail_id and password\n",
    "text = email.as_string()\n",
    "session.sendmail(sender_email, receiver_email, text)\n",
    "session.quit()\n",
    "print(f'Mail Sent to {receiver_email}')"
   ]
  },
  {
   "cell_type": "code",
   "execution_count": null,
   "metadata": {},
   "outputs": [],
   "source": []
  }
 ],
 "metadata": {
  "kernelspec": {
   "display_name": "test1",
   "language": "python",
   "name": "test1"
  },
  "language_info": {
   "codemirror_mode": {
    "name": "ipython",
    "version": 3
   },
   "file_extension": ".py",
   "mimetype": "text/x-python",
   "name": "python",
   "nbconvert_exporter": "python",
   "pygments_lexer": "ipython3",
   "version": "3.8.3"
  }
 },
 "nbformat": 4,
 "nbformat_minor": 4
}
